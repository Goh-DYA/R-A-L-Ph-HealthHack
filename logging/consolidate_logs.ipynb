{
 "cells": [
  {
   "cell_type": "markdown",
   "metadata": {},
   "source": [
    "# Consolidate Log files into CSV format\n",
    "\n",
    "This code consolidates all the `.json` log files into a readable `.csv` format."
   ]
  },
  {
   "cell_type": "code",
   "execution_count": 1,
   "metadata": {},
   "outputs": [],
   "source": [
    "import os\n",
    "import json\n",
    "import csv"
   ]
  },
  {
   "cell_type": "code",
   "execution_count": 2,
   "metadata": {},
   "outputs": [],
   "source": [
    "# Define paths & name of output csv\n",
    "log_folder = \"logs\" # name of logs folder\n",
    "output_csv = log_folder + \"/consolidated_logs_sample.csv\""
   ]
  },
  {
   "cell_type": "code",
   "execution_count": 3,
   "metadata": {},
   "outputs": [
    {
     "name": "stdout",
     "output_type": "stream",
     "text": [
      "List of JSON files: 1  |  ['chat_system_20250316_183649.json']\n",
      "Consolidation complete. Output saved to 'logs/consolidated_logs_sample.csv'.\n"
     ]
    }
   ],
   "source": [
    "# Collect all JSON files in the logs folder\n",
    "json_files = [f for f in os.listdir(log_folder) if f.endswith(\".json\")]\n",
    "print(\"List of JSON files:\", len(json_files), \" | \", json_files)\n",
    "\n",
    "# Open the CSV file for writing\n",
    "with open(output_csv, mode=\"w\", newline=\"\", encoding=\"utf-8\") as csvfile:\n",
    "    writer = None\n",
    "\n",
    "    # Process each JSON file\n",
    "    for json_file in json_files:\n",
    "        json_path = os.path.join(log_folder, json_file)\n",
    "        with open(json_path, mode=\"r\", encoding=\"utf-8\") as f:\n",
    "            try:\n",
    "                data = json.load(f)\n",
    "                if not isinstance(data, list):\n",
    "                    continue  # Skip if the JSON root is not a list\n",
    "\n",
    "                for entry in data:\n",
    "                    entry[\"source\"] = json_file  # Add source column\n",
    "\n",
    "                    # Initialize writer only once with proper fieldnames\n",
    "                    if writer is None:\n",
    "                        fieldnames = list(entry.keys())  # Ensure 'source' is included once\n",
    "                        writer = csv.DictWriter(csvfile, fieldnames=fieldnames)\n",
    "                        writer.writeheader()\n",
    "\n",
    "                    writer.writerow(entry)\n",
    "\n",
    "            except json.JSONDecodeError as e:\n",
    "                print(f\"Failed to parse {json_file}: {e}\")\n",
    "\n",
    "print(f\"Consolidation complete. Output saved to '{output_csv}'.\")"
   ]
  }
 ],
 "metadata": {
  "kernelspec": {
   "display_name": "ralph-chatbot-env",
   "language": "python",
   "name": "python3"
  },
  "language_info": {
   "codemirror_mode": {
    "name": "ipython",
    "version": 3
   },
   "file_extension": ".py",
   "mimetype": "text/x-python",
   "name": "python",
   "nbconvert_exporter": "python",
   "pygments_lexer": "ipython3",
   "version": "3.12.9"
  }
 },
 "nbformat": 4,
 "nbformat_minor": 2
}
